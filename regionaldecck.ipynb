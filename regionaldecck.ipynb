
# /////////////////////////////////////final code regional rural deck
import xlwings as xw

def copy_top_bottom_data(sheet_name, start_cell, sum_col_index, top_n, ascending, dest_sheet, dest_range):
    # File path
    file_path = r"C:\Users\thotnr\Desktop\powerbify25\Region Deck All Regionn updated.xlsx"
    
    # Open the workbook and sheets
    wb = xw.Book(file_path)
    src_sheet = wb.sheets[sheet_name]
    dest_sheet = wb.sheets[dest_sheet]
    
    # Identify the range starting from the provided start cell and expand to the table range
    data_range = src_sheet.range(start_cell).expand("table")
    
    # Get all data in the range (including headers)
    data = data_range.value
    
    # Sort the data by "Sum of Column" (ascending or descending based on the parameter)
    # Handle None by replacing it with a large or small number depending on sorting order
    sorted_data = sorted(
        data[1:], 
        key=lambda x: (float('-inf') if x[sum_col_index] is None else x[sum_col_index]), 
        reverse=not ascending
    )
    
    # Get the top N rows (excluding the header row)
    filtered_data = [data[0]] + sorted_data[:top_n]
    
    # Paste the filtered data into the destination sheet at the specified destination range
    dest_sheet.range(dest_range).value = filtered_data
    
    # Save the workbook (no need to close if you're still working with it)
    wb.save()
  
    print(f"Top {top_n if not ascending else 'Bottom'} {top_n} data copied from '{sheet_name}' to '{dest_sheet.name}' successfully.")

# Functions for specific tasks

# Top 10 ASD (copied to BW2)
def copy_top10_asd_data():
    copy_top_bottom_data(
        sheet_name="Top10 ASD", 
        start_cell="A6", 
        sum_col_index=0, 
        top_n=10, 
        ascending=False,  # Sort in descending order for top 10
        dest_sheet="Format", 
        dest_range="BW2"
    )

# Bottom 10 ASD (copied to BW17)
def copy_bottom10_asd_data():
    copy_top_bottom_data(
        sheet_name="Bottom10 ASD", 
        start_cell="A18", 
        sum_col_index=0, 
        top_n=10, 
        ascending=True,  # Sort in ascending order for bottom 10
        dest_sheet="Format", 
        dest_range="BW17"
    )

# Top 5 Dealer (copied to CM2)
def copy_top5_dealer_data():
    copy_top_bottom_data(
        sheet_name="TOP 5 Dealer", 
        start_cell="A766", 
        sum_col_index=0,  # Adjust column index if necessary
        top_n=5, 
        ascending=False,  # Sort in descending order for top 5
        dest_sheet="Format", 
        dest_range="CM2"
    )

# Bottom 5 Dealer (copied to CM17)
def copy_bottom5_dealer_data():
    copy_top_bottom_data(
        sheet_name="Bottom 5 Dealer", 
        start_cell="A4", 
        sum_col_index=0,  # Adjust column index if necessary
        top_n=5, 
        ascending=True,  # Sort in ascending order for bottom 5
        dest_sheet="Format", 
        dest_range="CM17"
    )

# Function to clear and paste data
def clear_and_paste(source_ws, source_start_cell, dest_ws, dest_start_cell, merge_ranges=None):
    # Unmerge destination cells before clearing contents
    dest_ws.range(dest_start_cell).expand().unmerge()

    # Clear all data in the destination before pasting
    dest_ws.range(dest_start_cell).expand().clear_contents()

    # Determine the range to copy based on start cell
    last_row = source_ws.range(source_start_cell).end('down').row
    last_col = source_ws.range(source_start_cell).end('right').column
    data_range = source_ws.range(source_start_cell, (last_row, last_col))

    # Paste the data
    dest_ws.range(dest_start_cell).value = data_range.value

    # Apply merging if specified
    if merge_ranges:
        for merge_range in merge_ranges:
            dest_ws.range(merge_range).merge()

# Function to copy and paste without "No match"
def copy_and_paste_without_no_match(source_ws, source_start_cell, dest_ws, dest_start_cell):
    last_row = source_ws.range(source_start_cell).end('down').row
    last_col = source_ws.range(source_start_cell).end('right').column
    data_range = source_ws.range(source_start_cell, (last_row, last_col)).value

    # Filter out rows containing "No match"
    filtered_data = [row for row in data_range if "No match" not in row]

    # Clear the destination sheet before pasting
    dest_ws.range(dest_start_cell).expand().clear_contents()

    # Paste the filtered data to the destination sheet
    dest_ws.range(dest_start_cell).value = filtered_data

# Main function to copy data to destination workbook
def copy_data(source_wb_path, dest_wb_path):
    # Open the source workbook
    source_wb = xw.Book(source_wb_path)

    # Open the destination workbook
    dest_wb = xw.Book(dest_wb_path)

    # 1. Format to Region
    clear_and_paste(source_wb.sheets['Format'], 'A3', dest_wb.sheets['Region'], 'A3', merge_ranges=[('A3:A4'), ('A5:A6'), ('A7:A8')])

    # 2. Format to Hub - Urban
    clear_and_paste(source_wb.sheets['Format'], 'A36', dest_wb.sheets['Hub - Urban'], 'A3', merge_ranges=[('A3:A4'), ('A5:A6'), ('A7:A8'), ('A9:A10'), ('A11:A12'), ('A13:A14'), ('A15:A16'), ('A17:A18')])

    # 3. Format to Hub - Rural
    clear_and_paste(source_wb.sheets['Format'], 'A151', dest_wb.sheets['Hub - Rural'], 'A3', merge_ranges=[('A3:A4'), ('A5:A6'), ('A7:A8'), ('A9:A10'), ('A11:A12'), ('A13:A14'), ('A15:A16'), ('A17:A18')])

    # 4. Top & Bottom 5 ASDs - Rural
    clear_and_paste(source_wb.sheets['Format'], 'BF3', dest_wb.sheets['Top & Bottom 5 ASDs - Rural'], 'A3')
    clear_and_paste(source_wb.sheets['Format'], 'BF18', dest_wb.sheets['Top & Bottom 5 ASDs - Rural'], 'A16')

    # 5. Top & Bottom 5 Dealers - Rural
    clear_and_paste(source_wb.sheets['Format'], 'AQ3', dest_wb.sheets['Top & Bottom 5 Dealers - Rural'], 'A3' )
    clear_and_paste(source_wb.sheets['Format'], 'AQ18', dest_wb.sheets['Top & Bottom 5 Dealers - Rural'], 'A12')

    # Additional logic for the new sheets without "No match" text:
    # P125 sheet logic
    copy_and_paste_without_no_match(source_wb.sheets['P125'], 'A2', dest_wb.sheets['Nil Retail ASDs - P125'], 'A2')

    # NS125 sheet logic
    copy_and_paste_without_no_match(source_wb.sheets['NS125'], 'A2', dest_wb.sheets['Nil Retail ASDs - NS125'], 'A2')

    # P150 sheet logic
    copy_and_paste_without_no_match(source_wb.sheets['P150'], 'A2', dest_wb.sheets['Nil Retail ASDs - P150'], 'A2')

    # N150N160 sheet logic
    copy_and_paste_without_no_match(source_wb.sheets['N150N160'], 'A2', dest_wb.sheets['Nil Retail ASDs - N150N160'], 'A2')

    # NS160NS200 sheet logic
    copy_and_paste_without_no_match(source_wb.sheets['NS160NS200'], 'A2', dest_wb.sheets['Nil Retail ASDs - NS160NS200'], 'A2')

    
 # Save and close the workbooks
    
    dest_wb.save()
    dest_wb.close()
    print("Data copied and pasted successfully!")

# Running the functions to copy top and bottom data
copy_top10_asd_data()
copy_bottom10_asd_data()
copy_top5_dealer_data()
copy_bottom5_dealer_data()

# Example usage for copying data to specific regional files
source_wb_path = r"C:\Users\thotnr\Desktop\powerbify25\Region Deck All Regionn updated.xlsx"

# Update for each region as needed
region_files = {
    # "AP": r"C:\Users\thotnr\Desktop\powerbify25\Regional Deck All Region\Region Deck _AP.xlsx",
    # "JH": r"C:\Users\thotnr\Desktop\powerbify25\Regional Deck All Region\Region Deck _JH.xlsx",
    # "BH": r"C:\Users\thotnr\Desktop\powerbify25\Regional Deck All Region\Region Deck _BH.xlsx",
    # "CG": r"C:\Users\thotnr\Desktop\powerbify25\Regional Deck All Region\Region Deck _CG.xlsx",
    # "DEL": r"C:\Users\thotnr\Desktop\powerbify25\Regional Deck All Region\Region Deck _DEL.xlsx",
    # "GJ": r"C:\Users\thotnr\Desktop\powerbify25\Regional Deck All Region\Region Deck _GJ.xlsx",
    # "HAR": r"C:\Users\thotnr\Desktop\powerbify25\Regional Deck All Region\Region Deck _HAR.xlsx",
    # "KAR": r"C:\Users\thotnr\Desktop\powerbify25\Regional Deck All Region\Region Deck _KAR.xlsx",
    # "KER": r"C:\Users\thotnr\Desktop\powerbify25\Regional Deck All Region\Region Deck _KER.xlsx",
    # "MAH": r"C:\Users\thotnr\Desktop\powerbify25\Regional Deck All Region\Region Deck _MAH.xlsx",
    # "MP": r"C:\Users\thotnr\Desktop\powerbify25\Regional Deck All Region\Region Deck _MP.xlsx",
    # "NE": r"C:\Users\thotnr\Desktop\powerbify25\Regional Deck All Region\Region Deck _NE.xlsx",
    # "ORI": r"C:\Users\thotnr\Desktop\powerbify25\Regional Deck All Region\Region Deck _ORI.xlsx",
    # "PB": r"C:\Users\thotnr\Desktop\powerbify25\Regional Deck All Region\Region Deck _PB.xlsx",
    # "RAJ": r"C:\Users\thotnr\Desktop\powerbify25\Regional Deck All Region\Region Deck _RAJ.xlsx",
    # "TG": r"C:\Users\thotnr\Desktop\powerbify25\Regional Deck All Region\Region Deck _TG.xlsx",
    # "TN": r"C:\Users\thotnr\Desktop\powerbify25\Regional Deck All Region\Region Deck _TN.xlsx",
    # "UPC": r"C:\Users\thotnr\Desktop\powerbify25\Regional Deck All Region\Region Deck _UPC.xlsx",
    # "UPE": r"C:\Users\thotnr\Desktop\powerbify25\Regional Deck All Region\Region Deck _UPE.xlsx",
    # "UPW": r"C:\Users\thotnr\Desktop\powerbify25\Regional Deck All Region\Region Deck _UPW.xlsx",
    "VID": r"C:\Users\thotnr\Desktop\powerbify25\Regional Deck All Region\Region Deck _VID.xlsx",
    # "WB": r"C:\Users\thotnr\Desktop\powerbify25\Regional Deck All Region\Region Deck _WB.xlsx",
    # Add other regions here...
}

# Loop through the region files
for region, dest_wb_path in region_files.items():
    copy_data(source_wb_path, dest_wb_path)


